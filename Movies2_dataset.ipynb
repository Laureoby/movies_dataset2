{
  "nbformat": 4,
  "nbformat_minor": 0,
  "metadata": {
    "colab": {
      "provenance": [],
      "authorship_tag": "ABX9TyNlZlCkmbmijsXr7TIlD9LX",
      "include_colab_link": true
    },
    "kernelspec": {
      "name": "python3",
      "display_name": "Python 3"
    },
    "language_info": {
      "name": "python"
    }
  },
  "cells": [
    {
      "cell_type": "markdown",
      "metadata": {
        "id": "view-in-github",
        "colab_type": "text"
      },
      "source": [
        "<a href=\"https://colab.research.google.com/github/Laureoby/movies_dataset2/blob/new_file/Movies2_dataset.ipynb\" target=\"_parent\"><img src=\"https://colab.research.google.com/assets/colab-badge.svg\" alt=\"Open In Colab\"/></a>"
      ]
    },
    {
      "cell_type": "code",
      "execution_count": 9,
      "metadata": {
        "colab": {
          "base_uri": "https://localhost:8080/"
        },
        "id": "XhtKkz3K2Vq5",
        "outputId": "cc1312ce-14c4-4506-ab0e-48c68c97654c"
      },
      "outputs": [
        {
          "output_type": "stream",
          "name": "stdout",
          "text": [
            "Drive already mounted at /content/drive; to attempt to forcibly remount, call drive.mount(\"/content/drive\", force_remount=True).\n"
          ]
        }
      ],
      "source": [
        "from google.colab import drive\n",
        "drive.mount('/content/drive')"
      ]
    },
    {
      "cell_type": "code",
      "source": [
        "import pandas as pd\n",
        "import matplotlib.pyplot as plt\n",
        "import numpy as np\n",
        "import seaborn as sns"
      ],
      "metadata": {
        "id": "jEEkBKD14xSq"
      },
      "execution_count": 10,
      "outputs": []
    },
    {
      "cell_type": "code",
      "source": [
        "data = pd.read_csv('/content/drive/MyDrive/movies2.csv')\n",
        "data.head()"
      ],
      "metadata": {
        "colab": {
          "base_uri": "https://localhost:8080/"
        },
        "id": "t-uQ-c9B44HA",
        "outputId": "eb1057c1-7a7c-4b10-e454-155b3f1dd658"
      },
      "execution_count": 11,
      "outputs": [
        {
          "output_type": "execute_result",
          "data": {
            "text/plain": [
              "                                           Movie URL                Title  \\\n",
              "0  https://www.imdb.com/title/tt0001892/?ref_=sr_t_3       Den sorte drøm   \n",
              "1  https://www.imdb.com/title/tt0001964/?ref_=sr_t_6       Die Verräterin   \n",
              "2  https://www.imdb.com/title/tt0002101/?ref_=sr_t_1            Cleopatra   \n",
              "3  https://www.imdb.com/title/tt0002130/?ref_=sr_t_1            L'Inferno   \n",
              "4  https://www.imdb.com/title/tt0002186/?ref_=sr_t_6  Den flyvende cirkus   \n",
              "\n",
              "                                              Poster  Release Year  \\\n",
              "0  https://m.media-amazon.com/images/M/MV5BZjg0Yj...        1911.0   \n",
              "1  https://m.media-amazon.com/images/M/MV5BNjI2Nj...        1911.0   \n",
              "2  https://m.media-amazon.com/images/M/MV5BZTcyMG...        1912.0   \n",
              "3  https://m.media-amazon.com/images/M/MV5BMzY0NT...        1911.0   \n",
              "4  https://m.media-amazon.com/images/M/MV5BZTljZD...        1912.0   \n",
              "\n",
              "   Length in Min  IMDB Rating  Rating Count  \\\n",
              "0           53.0          5.8         265.0   \n",
              "1           48.0          5.9         100.0   \n",
              "2          100.0          5.1         620.0   \n",
              "3           71.0          7.0        3500.0   \n",
              "4           46.0          6.4         145.0   \n",
              "\n",
              "                                                Plot  \\\n",
              "0  Two men of high rank are both wooing the beaut...   \n",
              "1  A woman betrays the regiment location in which...   \n",
              "2  The fabled queen of Egypt's affair with Roman ...   \n",
              "3  Loosely adapted from Dante's Divine Comedy and...   \n",
              "4  The Flying Circus was the largest traveling ar...   \n",
              "\n",
              "                                           Directors  \\\n",
              "0                                         Urban Gad|   \n",
              "1                                          Urban Gad   \n",
              "2                                Charles L. Gaskill|   \n",
              "3  Francesco Bertolini|Adolfo Padovan|Giuseppe de...   \n",
              "4                                       Alfred Lind|   \n",
              "\n",
              "                                 Writers  \\\n",
              "0  Urban Gad|Gebhard Schätzler-Perasini|   \n",
              "1                          Erich Zeiske|   \n",
              "2   Victorien Sardou|Charles L. Gaskill|   \n",
              "3                       Dante Alighieri|   \n",
              "4      Carl Otto Dumreicher|Alfred Lind|   \n",
              "\n",
              "                                               Stars                   Genres  \n",
              "0  Asta Nielsen|Valdemar Psilander|Gunnar Helseng...                    Drama  \n",
              "1               Asta Nielsen|Max Obal|Robert Valberg                    Drama  \n",
              "2         Helen Gardner|Pearl Sindelar|Miss Fielding            Drama|History  \n",
              "3  Salvatore Papa|Arturo Pirovano|Giuseppe de Lig...  Adventure|Drama|Fantasy  \n",
              "4          Rasmus Ottesen|Emilie Otterdahl|Lili Beck                    Drama  "
            ],
            "text/html": [
              "\n",
              "  <div id=\"df-33bf27f1-e022-4b9f-9b2c-3a5f32fa698f\" class=\"colab-df-container\">\n",
              "    <div>\n",
              "<style scoped>\n",
              "    .dataframe tbody tr th:only-of-type {\n",
              "        vertical-align: middle;\n",
              "    }\n",
              "\n",
              "    .dataframe tbody tr th {\n",
              "        vertical-align: top;\n",
              "    }\n",
              "\n",
              "    .dataframe thead th {\n",
              "        text-align: right;\n",
              "    }\n",
              "</style>\n",
              "<table border=\"1\" class=\"dataframe\">\n",
              "  <thead>\n",
              "    <tr style=\"text-align: right;\">\n",
              "      <th></th>\n",
              "      <th>Movie URL</th>\n",
              "      <th>Title</th>\n",
              "      <th>Poster</th>\n",
              "      <th>Release Year</th>\n",
              "      <th>Length in Min</th>\n",
              "      <th>IMDB Rating</th>\n",
              "      <th>Rating Count</th>\n",
              "      <th>Plot</th>\n",
              "      <th>Directors</th>\n",
              "      <th>Writers</th>\n",
              "      <th>Stars</th>\n",
              "      <th>Genres</th>\n",
              "    </tr>\n",
              "  </thead>\n",
              "  <tbody>\n",
              "    <tr>\n",
              "      <th>0</th>\n",
              "      <td>https://www.imdb.com/title/tt0001892/?ref_=sr_t_3</td>\n",
              "      <td>Den sorte drøm</td>\n",
              "      <td>https://m.media-amazon.com/images/M/MV5BZjg0Yj...</td>\n",
              "      <td>1911.0</td>\n",
              "      <td>53.0</td>\n",
              "      <td>5.8</td>\n",
              "      <td>265.0</td>\n",
              "      <td>Two men of high rank are both wooing the beaut...</td>\n",
              "      <td>Urban Gad|</td>\n",
              "      <td>Urban Gad|Gebhard Schätzler-Perasini|</td>\n",
              "      <td>Asta Nielsen|Valdemar Psilander|Gunnar Helseng...</td>\n",
              "      <td>Drama</td>\n",
              "    </tr>\n",
              "    <tr>\n",
              "      <th>1</th>\n",
              "      <td>https://www.imdb.com/title/tt0001964/?ref_=sr_t_6</td>\n",
              "      <td>Die Verräterin</td>\n",
              "      <td>https://m.media-amazon.com/images/M/MV5BNjI2Nj...</td>\n",
              "      <td>1911.0</td>\n",
              "      <td>48.0</td>\n",
              "      <td>5.9</td>\n",
              "      <td>100.0</td>\n",
              "      <td>A woman betrays the regiment location in which...</td>\n",
              "      <td>Urban Gad</td>\n",
              "      <td>Erich Zeiske|</td>\n",
              "      <td>Asta Nielsen|Max Obal|Robert Valberg</td>\n",
              "      <td>Drama</td>\n",
              "    </tr>\n",
              "    <tr>\n",
              "      <th>2</th>\n",
              "      <td>https://www.imdb.com/title/tt0002101/?ref_=sr_t_1</td>\n",
              "      <td>Cleopatra</td>\n",
              "      <td>https://m.media-amazon.com/images/M/MV5BZTcyMG...</td>\n",
              "      <td>1912.0</td>\n",
              "      <td>100.0</td>\n",
              "      <td>5.1</td>\n",
              "      <td>620.0</td>\n",
              "      <td>The fabled queen of Egypt's affair with Roman ...</td>\n",
              "      <td>Charles L. Gaskill|</td>\n",
              "      <td>Victorien Sardou|Charles L. Gaskill|</td>\n",
              "      <td>Helen Gardner|Pearl Sindelar|Miss Fielding</td>\n",
              "      <td>Drama|History</td>\n",
              "    </tr>\n",
              "    <tr>\n",
              "      <th>3</th>\n",
              "      <td>https://www.imdb.com/title/tt0002130/?ref_=sr_t_1</td>\n",
              "      <td>L'Inferno</td>\n",
              "      <td>https://m.media-amazon.com/images/M/MV5BMzY0NT...</td>\n",
              "      <td>1911.0</td>\n",
              "      <td>71.0</td>\n",
              "      <td>7.0</td>\n",
              "      <td>3500.0</td>\n",
              "      <td>Loosely adapted from Dante's Divine Comedy and...</td>\n",
              "      <td>Francesco Bertolini|Adolfo Padovan|Giuseppe de...</td>\n",
              "      <td>Dante Alighieri|</td>\n",
              "      <td>Salvatore Papa|Arturo Pirovano|Giuseppe de Lig...</td>\n",
              "      <td>Adventure|Drama|Fantasy</td>\n",
              "    </tr>\n",
              "    <tr>\n",
              "      <th>4</th>\n",
              "      <td>https://www.imdb.com/title/tt0002186/?ref_=sr_t_6</td>\n",
              "      <td>Den flyvende cirkus</td>\n",
              "      <td>https://m.media-amazon.com/images/M/MV5BZTljZD...</td>\n",
              "      <td>1912.0</td>\n",
              "      <td>46.0</td>\n",
              "      <td>6.4</td>\n",
              "      <td>145.0</td>\n",
              "      <td>The Flying Circus was the largest traveling ar...</td>\n",
              "      <td>Alfred Lind|</td>\n",
              "      <td>Carl Otto Dumreicher|Alfred Lind|</td>\n",
              "      <td>Rasmus Ottesen|Emilie Otterdahl|Lili Beck</td>\n",
              "      <td>Drama</td>\n",
              "    </tr>\n",
              "  </tbody>\n",
              "</table>\n",
              "</div>\n",
              "    <div class=\"colab-df-buttons\">\n",
              "\n",
              "  <div class=\"colab-df-container\">\n",
              "    <button class=\"colab-df-convert\" onclick=\"convertToInteractive('df-33bf27f1-e022-4b9f-9b2c-3a5f32fa698f')\"\n",
              "            title=\"Convert this dataframe to an interactive table.\"\n",
              "            style=\"display:none;\">\n",
              "\n",
              "  <svg xmlns=\"http://www.w3.org/2000/svg\" height=\"24px\" viewBox=\"0 -960 960 960\">\n",
              "    <path d=\"M120-120v-720h720v720H120Zm60-500h600v-160H180v160Zm220 220h160v-160H400v160Zm0 220h160v-160H400v160ZM180-400h160v-160H180v160Zm440 0h160v-160H620v160ZM180-180h160v-160H180v160Zm440 0h160v-160H620v160Z\"/>\n",
              "  </svg>\n",
              "    </button>\n",
              "\n",
              "  <style>\n",
              "    .colab-df-container {\n",
              "      display:flex;\n",
              "      gap: 12px;\n",
              "    }\n",
              "\n",
              "    .colab-df-convert {\n",
              "      background-color: #E8F0FE;\n",
              "      border: none;\n",
              "      border-radius: 50%;\n",
              "      cursor: pointer;\n",
              "      display: none;\n",
              "      fill: #1967D2;\n",
              "      height: 32px;\n",
              "      padding: 0 0 0 0;\n",
              "      width: 32px;\n",
              "    }\n",
              "\n",
              "    .colab-df-convert:hover {\n",
              "      background-color: #E2EBFA;\n",
              "      box-shadow: 0px 1px 2px rgba(60, 64, 67, 0.3), 0px 1px 3px 1px rgba(60, 64, 67, 0.15);\n",
              "      fill: #174EA6;\n",
              "    }\n",
              "\n",
              "    .colab-df-buttons div {\n",
              "      margin-bottom: 4px;\n",
              "    }\n",
              "\n",
              "    [theme=dark] .colab-df-convert {\n",
              "      background-color: #3B4455;\n",
              "      fill: #D2E3FC;\n",
              "    }\n",
              "\n",
              "    [theme=dark] .colab-df-convert:hover {\n",
              "      background-color: #434B5C;\n",
              "      box-shadow: 0px 1px 3px 1px rgba(0, 0, 0, 0.15);\n",
              "      filter: drop-shadow(0px 1px 2px rgba(0, 0, 0, 0.3));\n",
              "      fill: #FFFFFF;\n",
              "    }\n",
              "  </style>\n",
              "\n",
              "    <script>\n",
              "      const buttonEl =\n",
              "        document.querySelector('#df-33bf27f1-e022-4b9f-9b2c-3a5f32fa698f button.colab-df-convert');\n",
              "      buttonEl.style.display =\n",
              "        google.colab.kernel.accessAllowed ? 'block' : 'none';\n",
              "\n",
              "      async function convertToInteractive(key) {\n",
              "        const element = document.querySelector('#df-33bf27f1-e022-4b9f-9b2c-3a5f32fa698f');\n",
              "        const dataTable =\n",
              "          await google.colab.kernel.invokeFunction('convertToInteractive',\n",
              "                                                    [key], {});\n",
              "        if (!dataTable) return;\n",
              "\n",
              "        const docLinkHtml = 'Like what you see? Visit the ' +\n",
              "          '<a target=\"_blank\" href=https://colab.research.google.com/notebooks/data_table.ipynb>data table notebook</a>'\n",
              "          + ' to learn more about interactive tables.';\n",
              "        element.innerHTML = '';\n",
              "        dataTable['output_type'] = 'display_data';\n",
              "        await google.colab.output.renderOutput(dataTable, element);\n",
              "        const docLink = document.createElement('div');\n",
              "        docLink.innerHTML = docLinkHtml;\n",
              "        element.appendChild(docLink);\n",
              "      }\n",
              "    </script>\n",
              "  </div>\n",
              "\n",
              "\n",
              "<div id=\"df-d4eecd09-9442-4ea2-9bff-035a906c3677\">\n",
              "  <button class=\"colab-df-quickchart\" onclick=\"quickchart('df-d4eecd09-9442-4ea2-9bff-035a906c3677')\"\n",
              "            title=\"Suggest charts\"\n",
              "            style=\"display:none;\">\n",
              "\n",
              "<svg xmlns=\"http://www.w3.org/2000/svg\" height=\"24px\"viewBox=\"0 0 24 24\"\n",
              "     width=\"24px\">\n",
              "    <g>\n",
              "        <path d=\"M19 3H5c-1.1 0-2 .9-2 2v14c0 1.1.9 2 2 2h14c1.1 0 2-.9 2-2V5c0-1.1-.9-2-2-2zM9 17H7v-7h2v7zm4 0h-2V7h2v10zm4 0h-2v-4h2v4z\"/>\n",
              "    </g>\n",
              "</svg>\n",
              "  </button>\n",
              "\n",
              "<style>\n",
              "  .colab-df-quickchart {\n",
              "      --bg-color: #E8F0FE;\n",
              "      --fill-color: #1967D2;\n",
              "      --hover-bg-color: #E2EBFA;\n",
              "      --hover-fill-color: #174EA6;\n",
              "      --disabled-fill-color: #AAA;\n",
              "      --disabled-bg-color: #DDD;\n",
              "  }\n",
              "\n",
              "  [theme=dark] .colab-df-quickchart {\n",
              "      --bg-color: #3B4455;\n",
              "      --fill-color: #D2E3FC;\n",
              "      --hover-bg-color: #434B5C;\n",
              "      --hover-fill-color: #FFFFFF;\n",
              "      --disabled-bg-color: #3B4455;\n",
              "      --disabled-fill-color: #666;\n",
              "  }\n",
              "\n",
              "  .colab-df-quickchart {\n",
              "    background-color: var(--bg-color);\n",
              "    border: none;\n",
              "    border-radius: 50%;\n",
              "    cursor: pointer;\n",
              "    display: none;\n",
              "    fill: var(--fill-color);\n",
              "    height: 32px;\n",
              "    padding: 0;\n",
              "    width: 32px;\n",
              "  }\n",
              "\n",
              "  .colab-df-quickchart:hover {\n",
              "    background-color: var(--hover-bg-color);\n",
              "    box-shadow: 0 1px 2px rgba(60, 64, 67, 0.3), 0 1px 3px 1px rgba(60, 64, 67, 0.15);\n",
              "    fill: var(--button-hover-fill-color);\n",
              "  }\n",
              "\n",
              "  .colab-df-quickchart-complete:disabled,\n",
              "  .colab-df-quickchart-complete:disabled:hover {\n",
              "    background-color: var(--disabled-bg-color);\n",
              "    fill: var(--disabled-fill-color);\n",
              "    box-shadow: none;\n",
              "  }\n",
              "\n",
              "  .colab-df-spinner {\n",
              "    border: 2px solid var(--fill-color);\n",
              "    border-color: transparent;\n",
              "    border-bottom-color: var(--fill-color);\n",
              "    animation:\n",
              "      spin 1s steps(1) infinite;\n",
              "  }\n",
              "\n",
              "  @keyframes spin {\n",
              "    0% {\n",
              "      border-color: transparent;\n",
              "      border-bottom-color: var(--fill-color);\n",
              "      border-left-color: var(--fill-color);\n",
              "    }\n",
              "    20% {\n",
              "      border-color: transparent;\n",
              "      border-left-color: var(--fill-color);\n",
              "      border-top-color: var(--fill-color);\n",
              "    }\n",
              "    30% {\n",
              "      border-color: transparent;\n",
              "      border-left-color: var(--fill-color);\n",
              "      border-top-color: var(--fill-color);\n",
              "      border-right-color: var(--fill-color);\n",
              "    }\n",
              "    40% {\n",
              "      border-color: transparent;\n",
              "      border-right-color: var(--fill-color);\n",
              "      border-top-color: var(--fill-color);\n",
              "    }\n",
              "    60% {\n",
              "      border-color: transparent;\n",
              "      border-right-color: var(--fill-color);\n",
              "    }\n",
              "    80% {\n",
              "      border-color: transparent;\n",
              "      border-right-color: var(--fill-color);\n",
              "      border-bottom-color: var(--fill-color);\n",
              "    }\n",
              "    90% {\n",
              "      border-color: transparent;\n",
              "      border-bottom-color: var(--fill-color);\n",
              "    }\n",
              "  }\n",
              "</style>\n",
              "\n",
              "  <script>\n",
              "    async function quickchart(key) {\n",
              "      const quickchartButtonEl =\n",
              "        document.querySelector('#' + key + ' button');\n",
              "      quickchartButtonEl.disabled = true;  // To prevent multiple clicks.\n",
              "      quickchartButtonEl.classList.add('colab-df-spinner');\n",
              "      try {\n",
              "        const charts = await google.colab.kernel.invokeFunction(\n",
              "            'suggestCharts', [key], {});\n",
              "      } catch (error) {\n",
              "        console.error('Error during call to suggestCharts:', error);\n",
              "      }\n",
              "      quickchartButtonEl.classList.remove('colab-df-spinner');\n",
              "      quickchartButtonEl.classList.add('colab-df-quickchart-complete');\n",
              "    }\n",
              "    (() => {\n",
              "      let quickchartButtonEl =\n",
              "        document.querySelector('#df-d4eecd09-9442-4ea2-9bff-035a906c3677 button');\n",
              "      quickchartButtonEl.style.display =\n",
              "        google.colab.kernel.accessAllowed ? 'block' : 'none';\n",
              "    })();\n",
              "  </script>\n",
              "</div>\n",
              "\n",
              "    </div>\n",
              "  </div>\n"
            ],
            "application/vnd.google.colaboratory.intrinsic+json": {
              "type": "dataframe",
              "variable_name": "data"
            }
          },
          "metadata": {},
          "execution_count": 11
        }
      ]
    },
    {
      "cell_type": "code",
      "source": [
        "data.duplicated().sum()"
      ],
      "metadata": {
        "colab": {
          "base_uri": "https://localhost:8080/"
        },
        "id": "XZBQHygw6eQo",
        "outputId": "ae5acde5-8fec-4055-d231-63fead6037b5"
      },
      "execution_count": 13,
      "outputs": [
        {
          "output_type": "execute_result",
          "data": {
            "text/plain": [
              "0"
            ]
          },
          "metadata": {},
          "execution_count": 13
        }
      ]
    },
    {
      "cell_type": "code",
      "source": [
        "data.isnull().sum()"
      ],
      "metadata": {
        "id": "Ll9Oe3Oo6_o_",
        "colab": {
          "base_uri": "https://localhost:8080/"
        },
        "outputId": "c6d4cad5-2d6e-4e59-9741-f4742c3064ea"
      },
      "execution_count": 14,
      "outputs": [
        {
          "output_type": "execute_result",
          "data": {
            "text/plain": [
              "Movie URL           0\n",
              "Title              65\n",
              "Poster            307\n",
              "Release Year       73\n",
              "Length in Min    1958\n",
              "IMDB Rating        67\n",
              "Rating Count       67\n",
              "Plot               65\n",
              "Directors         849\n",
              "Writers          7057\n",
              "Stars            1352\n",
              "Genres            176\n",
              "dtype: int64"
            ]
          },
          "metadata": {},
          "execution_count": 14
        }
      ]
    },
    {
      "cell_type": "code",
      "source": [
        "#number of rows which has many Nan values\n",
        "nan_count = data.isnull().sum(axis=1)\n",
        "limit = 10\n",
        "rows_with_nan = nan_count[nan_count >= limit]\n",
        "print(f'We have {len(rows_with_nan)} with {limit} Nan values or more')\n",
        "#We delete these rows\n",
        "data = data.drop(rows_with_nan.index)\n",
        "print(f'The dataset has {len(nan_count)} now with {len(data)} rows')"
      ],
      "metadata": {
        "id": "1WUvenZb7CO6",
        "colab": {
          "base_uri": "https://localhost:8080/"
        },
        "outputId": "6a33fcb7-6ea3-43f7-872f-612fb900445f"
      },
      "execution_count": 15,
      "outputs": [
        {
          "output_type": "stream",
          "name": "stdout",
          "text": [
            "We have 65 with 10 Nan values or more\n",
            "The dataset has 126691 now with 126626 rows\n"
          ]
        }
      ]
    },
    {
      "cell_type": "code",
      "source": [
        "data = data.dropna(subset=['Poster'])"
      ],
      "metadata": {
        "id": "8HQrrFB-7IaL"
      },
      "execution_count": 16,
      "outputs": []
    },
    {
      "cell_type": "code",
      "source": [
        "#We use interpolation\n",
        "data['Release Year'].fillna(method='ffill', inplace=True)  # Remplissage avec la valeur précédente\n",
        "data.isnull().sum()"
      ],
      "metadata": {
        "id": "jFtKYSWc7NI7",
        "colab": {
          "base_uri": "https://localhost:8080/"
        },
        "outputId": "56ab1270-7588-4440-db50-710ee4d27855"
      },
      "execution_count": 17,
      "outputs": [
        {
          "output_type": "execute_result",
          "data": {
            "text/plain": [
              "Movie URL           0\n",
              "Title               0\n",
              "Poster              0\n",
              "Release Year        0\n",
              "Length in Min    1824\n",
              "IMDB Rating         2\n",
              "Rating Count        2\n",
              "Plot                0\n",
              "Directors         760\n",
              "Writers          6903\n",
              "Stars            1252\n",
              "Genres             93\n",
              "dtype: int64"
            ]
          },
          "metadata": {},
          "execution_count": 17
        }
      ]
    },
    {
      "cell_type": "code",
      "source": [
        "#We use interpolation\n",
        "data['Length in Min'] = data['Length in Min'].interpolate(method='linear')\n",
        "data.isnull().sum()"
      ],
      "metadata": {
        "id": "3uuxiTYc7RVo",
        "colab": {
          "base_uri": "https://localhost:8080/"
        },
        "outputId": "c287d27f-3fd6-437a-9682-8279e4c18f4f"
      },
      "execution_count": 18,
      "outputs": [
        {
          "output_type": "execute_result",
          "data": {
            "text/plain": [
              "Movie URL           0\n",
              "Title               0\n",
              "Poster              0\n",
              "Release Year        0\n",
              "Length in Min       0\n",
              "IMDB Rating         2\n",
              "Rating Count        2\n",
              "Plot                0\n",
              "Directors         760\n",
              "Writers          6903\n",
              "Stars            1252\n",
              "Genres             93\n",
              "dtype: int64"
            ]
          },
          "metadata": {},
          "execution_count": 18
        }
      ]
    },
    {
      "cell_type": "code",
      "source": [
        "#We will replace Nan values in IMDB rating and Rating count by zero\n",
        "data['IMDB Rating'].fillna(0.0, inplace=True)\n",
        "data['Rating Count'].fillna(0.0, inplace=True)\n",
        "data.isnull().sum()"
      ],
      "metadata": {
        "id": "pZOaOzsU7WEd",
        "colab": {
          "base_uri": "https://localhost:8080/"
        },
        "outputId": "8f79fe63-feba-4dc2-b271-a5bdcceff82d"
      },
      "execution_count": 19,
      "outputs": [
        {
          "output_type": "execute_result",
          "data": {
            "text/plain": [
              "Movie URL           0\n",
              "Title               0\n",
              "Poster              0\n",
              "Release Year        0\n",
              "Length in Min       0\n",
              "IMDB Rating         0\n",
              "Rating Count        0\n",
              "Plot                0\n",
              "Directors         760\n",
              "Writers          6903\n",
              "Stars            1252\n",
              "Genres             93\n",
              "dtype: int64"
            ]
          },
          "metadata": {},
          "execution_count": 19
        }
      ]
    },
    {
      "cell_type": "code",
      "source": [
        "#for Directors, Writers and Stars, we will replace Nan values by values No names or Unknown name\n",
        "fill_values = {'Directors': 'Unknown Name', 'Writers': 'Unknown Name', 'Stars': 'Unknown Name'}\n",
        "data.fillna(value=fill_values, inplace=True)\n",
        "data.isnull().sum()"
      ],
      "metadata": {
        "id": "C6vU93697bSj",
        "colab": {
          "base_uri": "https://localhost:8080/"
        },
        "outputId": "f1a1e53f-ef6c-4269-decc-6e72575806bc"
      },
      "execution_count": 20,
      "outputs": [
        {
          "output_type": "execute_result",
          "data": {
            "text/plain": [
              "Movie URL         0\n",
              "Title             0\n",
              "Poster            0\n",
              "Release Year      0\n",
              "Length in Min     0\n",
              "IMDB Rating       0\n",
              "Rating Count      0\n",
              "Plot              0\n",
              "Directors         0\n",
              "Writers           0\n",
              "Stars             0\n",
              "Genres           93\n",
              "dtype: int64"
            ]
          },
          "metadata": {},
          "execution_count": 20
        }
      ]
    },
    {
      "cell_type": "code",
      "source": [
        "#Now we work on Genres column\n",
        "data['Genres'].unique()"
      ],
      "metadata": {
        "id": "F2t2o-XY7eR1",
        "colab": {
          "base_uri": "https://localhost:8080/"
        },
        "outputId": "5110585f-3f96-4565-b4bc-4aecdd5f18f3"
      },
      "execution_count": 21,
      "outputs": [
        {
          "output_type": "execute_result",
          "data": {
            "text/plain": [
              "array(['Drama', 'Drama|History', 'Adventure|Drama|Fantasy', ...,\n",
              "       'Animation|Crime|Horror', 'Comedy|Music|Thriller',\n",
              "       'Documentary|History|Musical'], dtype=object)"
            ]
          },
          "metadata": {},
          "execution_count": 21
        }
      ]
    },
    {
      "cell_type": "code",
      "source": [
        "data['Genres'].mode()"
      ],
      "metadata": {
        "id": "CtMpEPjW7iz9",
        "colab": {
          "base_uri": "https://localhost:8080/"
        },
        "outputId": "271edbcd-6f8e-4a9b-cf33-d7c06e453a0c"
      },
      "execution_count": 22,
      "outputs": [
        {
          "output_type": "execute_result",
          "data": {
            "text/plain": [
              "0    Drama\n",
              "Name: Genres, dtype: object"
            ]
          },
          "metadata": {},
          "execution_count": 22
        }
      ]
    },
    {
      "cell_type": "code",
      "source": [
        "data['Genres'].fillna('Drama', inplace=True)\n",
        "data.isnull().sum()"
      ],
      "metadata": {
        "id": "OgIWJbG_7mNS",
        "colab": {
          "base_uri": "https://localhost:8080/"
        },
        "outputId": "a2e4c311-2eaa-4e92-a57c-8c768e84c32d"
      },
      "execution_count": 23,
      "outputs": [
        {
          "output_type": "execute_result",
          "data": {
            "text/plain": [
              "Movie URL        0\n",
              "Title            0\n",
              "Poster           0\n",
              "Release Year     0\n",
              "Length in Min    0\n",
              "IMDB Rating      0\n",
              "Rating Count     0\n",
              "Plot             0\n",
              "Directors        0\n",
              "Writers          0\n",
              "Stars            0\n",
              "Genres           0\n",
              "dtype: int64"
            ]
          },
          "metadata": {},
          "execution_count": 23
        }
      ]
    },
    {
      "cell_type": "code",
      "source": [
        "data.isnull().sum()\n",
        "data.head()"
      ],
      "metadata": {
        "id": "TlY-SBhu7oiQ",
        "colab": {
          "base_uri": "https://localhost:8080/",
          "height": 692
        },
        "outputId": "27157afb-fe19-43ff-b2e2-918f28df916c"
      },
      "execution_count": 24,
      "outputs": [
        {
          "output_type": "execute_result",
          "data": {
            "text/plain": [
              "                                           Movie URL                Title  \\\n",
              "0  https://www.imdb.com/title/tt0001892/?ref_=sr_t_3       Den sorte drøm   \n",
              "1  https://www.imdb.com/title/tt0001964/?ref_=sr_t_6       Die Verräterin   \n",
              "2  https://www.imdb.com/title/tt0002101/?ref_=sr_t_1            Cleopatra   \n",
              "3  https://www.imdb.com/title/tt0002130/?ref_=sr_t_1            L'Inferno   \n",
              "4  https://www.imdb.com/title/tt0002186/?ref_=sr_t_6  Den flyvende cirkus   \n",
              "\n",
              "                                              Poster  Release Year  \\\n",
              "0  https://m.media-amazon.com/images/M/MV5BZjg0Yj...        1911.0   \n",
              "1  https://m.media-amazon.com/images/M/MV5BNjI2Nj...        1911.0   \n",
              "2  https://m.media-amazon.com/images/M/MV5BZTcyMG...        1912.0   \n",
              "3  https://m.media-amazon.com/images/M/MV5BMzY0NT...        1911.0   \n",
              "4  https://m.media-amazon.com/images/M/MV5BZTljZD...        1912.0   \n",
              "\n",
              "   Length in Min  IMDB Rating  Rating Count  \\\n",
              "0           53.0          5.8         265.0   \n",
              "1           48.0          5.9         100.0   \n",
              "2          100.0          5.1         620.0   \n",
              "3           71.0          7.0        3500.0   \n",
              "4           46.0          6.4         145.0   \n",
              "\n",
              "                                                Plot  \\\n",
              "0  Two men of high rank are both wooing the beaut...   \n",
              "1  A woman betrays the regiment location in which...   \n",
              "2  The fabled queen of Egypt's affair with Roman ...   \n",
              "3  Loosely adapted from Dante's Divine Comedy and...   \n",
              "4  The Flying Circus was the largest traveling ar...   \n",
              "\n",
              "                                           Directors  \\\n",
              "0                                         Urban Gad|   \n",
              "1                                          Urban Gad   \n",
              "2                                Charles L. Gaskill|   \n",
              "3  Francesco Bertolini|Adolfo Padovan|Giuseppe de...   \n",
              "4                                       Alfred Lind|   \n",
              "\n",
              "                                 Writers  \\\n",
              "0  Urban Gad|Gebhard Schätzler-Perasini|   \n",
              "1                          Erich Zeiske|   \n",
              "2   Victorien Sardou|Charles L. Gaskill|   \n",
              "3                       Dante Alighieri|   \n",
              "4      Carl Otto Dumreicher|Alfred Lind|   \n",
              "\n",
              "                                               Stars                   Genres  \n",
              "0  Asta Nielsen|Valdemar Psilander|Gunnar Helseng...                    Drama  \n",
              "1               Asta Nielsen|Max Obal|Robert Valberg                    Drama  \n",
              "2         Helen Gardner|Pearl Sindelar|Miss Fielding            Drama|History  \n",
              "3  Salvatore Papa|Arturo Pirovano|Giuseppe de Lig...  Adventure|Drama|Fantasy  \n",
              "4          Rasmus Ottesen|Emilie Otterdahl|Lili Beck                    Drama  "
            ],
            "text/html": [
              "\n",
              "  <div id=\"df-1c51b0fb-b76e-441b-84f5-7175f6e32e00\" class=\"colab-df-container\">\n",
              "    <div>\n",
              "<style scoped>\n",
              "    .dataframe tbody tr th:only-of-type {\n",
              "        vertical-align: middle;\n",
              "    }\n",
              "\n",
              "    .dataframe tbody tr th {\n",
              "        vertical-align: top;\n",
              "    }\n",
              "\n",
              "    .dataframe thead th {\n",
              "        text-align: right;\n",
              "    }\n",
              "</style>\n",
              "<table border=\"1\" class=\"dataframe\">\n",
              "  <thead>\n",
              "    <tr style=\"text-align: right;\">\n",
              "      <th></th>\n",
              "      <th>Movie URL</th>\n",
              "      <th>Title</th>\n",
              "      <th>Poster</th>\n",
              "      <th>Release Year</th>\n",
              "      <th>Length in Min</th>\n",
              "      <th>IMDB Rating</th>\n",
              "      <th>Rating Count</th>\n",
              "      <th>Plot</th>\n",
              "      <th>Directors</th>\n",
              "      <th>Writers</th>\n",
              "      <th>Stars</th>\n",
              "      <th>Genres</th>\n",
              "    </tr>\n",
              "  </thead>\n",
              "  <tbody>\n",
              "    <tr>\n",
              "      <th>0</th>\n",
              "      <td>https://www.imdb.com/title/tt0001892/?ref_=sr_t_3</td>\n",
              "      <td>Den sorte drøm</td>\n",
              "      <td>https://m.media-amazon.com/images/M/MV5BZjg0Yj...</td>\n",
              "      <td>1911.0</td>\n",
              "      <td>53.0</td>\n",
              "      <td>5.8</td>\n",
              "      <td>265.0</td>\n",
              "      <td>Two men of high rank are both wooing the beaut...</td>\n",
              "      <td>Urban Gad|</td>\n",
              "      <td>Urban Gad|Gebhard Schätzler-Perasini|</td>\n",
              "      <td>Asta Nielsen|Valdemar Psilander|Gunnar Helseng...</td>\n",
              "      <td>Drama</td>\n",
              "    </tr>\n",
              "    <tr>\n",
              "      <th>1</th>\n",
              "      <td>https://www.imdb.com/title/tt0001964/?ref_=sr_t_6</td>\n",
              "      <td>Die Verräterin</td>\n",
              "      <td>https://m.media-amazon.com/images/M/MV5BNjI2Nj...</td>\n",
              "      <td>1911.0</td>\n",
              "      <td>48.0</td>\n",
              "      <td>5.9</td>\n",
              "      <td>100.0</td>\n",
              "      <td>A woman betrays the regiment location in which...</td>\n",
              "      <td>Urban Gad</td>\n",
              "      <td>Erich Zeiske|</td>\n",
              "      <td>Asta Nielsen|Max Obal|Robert Valberg</td>\n",
              "      <td>Drama</td>\n",
              "    </tr>\n",
              "    <tr>\n",
              "      <th>2</th>\n",
              "      <td>https://www.imdb.com/title/tt0002101/?ref_=sr_t_1</td>\n",
              "      <td>Cleopatra</td>\n",
              "      <td>https://m.media-amazon.com/images/M/MV5BZTcyMG...</td>\n",
              "      <td>1912.0</td>\n",
              "      <td>100.0</td>\n",
              "      <td>5.1</td>\n",
              "      <td>620.0</td>\n",
              "      <td>The fabled queen of Egypt's affair with Roman ...</td>\n",
              "      <td>Charles L. Gaskill|</td>\n",
              "      <td>Victorien Sardou|Charles L. Gaskill|</td>\n",
              "      <td>Helen Gardner|Pearl Sindelar|Miss Fielding</td>\n",
              "      <td>Drama|History</td>\n",
              "    </tr>\n",
              "    <tr>\n",
              "      <th>3</th>\n",
              "      <td>https://www.imdb.com/title/tt0002130/?ref_=sr_t_1</td>\n",
              "      <td>L'Inferno</td>\n",
              "      <td>https://m.media-amazon.com/images/M/MV5BMzY0NT...</td>\n",
              "      <td>1911.0</td>\n",
              "      <td>71.0</td>\n",
              "      <td>7.0</td>\n",
              "      <td>3500.0</td>\n",
              "      <td>Loosely adapted from Dante's Divine Comedy and...</td>\n",
              "      <td>Francesco Bertolini|Adolfo Padovan|Giuseppe de...</td>\n",
              "      <td>Dante Alighieri|</td>\n",
              "      <td>Salvatore Papa|Arturo Pirovano|Giuseppe de Lig...</td>\n",
              "      <td>Adventure|Drama|Fantasy</td>\n",
              "    </tr>\n",
              "    <tr>\n",
              "      <th>4</th>\n",
              "      <td>https://www.imdb.com/title/tt0002186/?ref_=sr_t_6</td>\n",
              "      <td>Den flyvende cirkus</td>\n",
              "      <td>https://m.media-amazon.com/images/M/MV5BZTljZD...</td>\n",
              "      <td>1912.0</td>\n",
              "      <td>46.0</td>\n",
              "      <td>6.4</td>\n",
              "      <td>145.0</td>\n",
              "      <td>The Flying Circus was the largest traveling ar...</td>\n",
              "      <td>Alfred Lind|</td>\n",
              "      <td>Carl Otto Dumreicher|Alfred Lind|</td>\n",
              "      <td>Rasmus Ottesen|Emilie Otterdahl|Lili Beck</td>\n",
              "      <td>Drama</td>\n",
              "    </tr>\n",
              "  </tbody>\n",
              "</table>\n",
              "</div>\n",
              "    <div class=\"colab-df-buttons\">\n",
              "\n",
              "  <div class=\"colab-df-container\">\n",
              "    <button class=\"colab-df-convert\" onclick=\"convertToInteractive('df-1c51b0fb-b76e-441b-84f5-7175f6e32e00')\"\n",
              "            title=\"Convert this dataframe to an interactive table.\"\n",
              "            style=\"display:none;\">\n",
              "\n",
              "  <svg xmlns=\"http://www.w3.org/2000/svg\" height=\"24px\" viewBox=\"0 -960 960 960\">\n",
              "    <path d=\"M120-120v-720h720v720H120Zm60-500h600v-160H180v160Zm220 220h160v-160H400v160Zm0 220h160v-160H400v160ZM180-400h160v-160H180v160Zm440 0h160v-160H620v160ZM180-180h160v-160H180v160Zm440 0h160v-160H620v160Z\"/>\n",
              "  </svg>\n",
              "    </button>\n",
              "\n",
              "  <style>\n",
              "    .colab-df-container {\n",
              "      display:flex;\n",
              "      gap: 12px;\n",
              "    }\n",
              "\n",
              "    .colab-df-convert {\n",
              "      background-color: #E8F0FE;\n",
              "      border: none;\n",
              "      border-radius: 50%;\n",
              "      cursor: pointer;\n",
              "      display: none;\n",
              "      fill: #1967D2;\n",
              "      height: 32px;\n",
              "      padding: 0 0 0 0;\n",
              "      width: 32px;\n",
              "    }\n",
              "\n",
              "    .colab-df-convert:hover {\n",
              "      background-color: #E2EBFA;\n",
              "      box-shadow: 0px 1px 2px rgba(60, 64, 67, 0.3), 0px 1px 3px 1px rgba(60, 64, 67, 0.15);\n",
              "      fill: #174EA6;\n",
              "    }\n",
              "\n",
              "    .colab-df-buttons div {\n",
              "      margin-bottom: 4px;\n",
              "    }\n",
              "\n",
              "    [theme=dark] .colab-df-convert {\n",
              "      background-color: #3B4455;\n",
              "      fill: #D2E3FC;\n",
              "    }\n",
              "\n",
              "    [theme=dark] .colab-df-convert:hover {\n",
              "      background-color: #434B5C;\n",
              "      box-shadow: 0px 1px 3px 1px rgba(0, 0, 0, 0.15);\n",
              "      filter: drop-shadow(0px 1px 2px rgba(0, 0, 0, 0.3));\n",
              "      fill: #FFFFFF;\n",
              "    }\n",
              "  </style>\n",
              "\n",
              "    <script>\n",
              "      const buttonEl =\n",
              "        document.querySelector('#df-1c51b0fb-b76e-441b-84f5-7175f6e32e00 button.colab-df-convert');\n",
              "      buttonEl.style.display =\n",
              "        google.colab.kernel.accessAllowed ? 'block' : 'none';\n",
              "\n",
              "      async function convertToInteractive(key) {\n",
              "        const element = document.querySelector('#df-1c51b0fb-b76e-441b-84f5-7175f6e32e00');\n",
              "        const dataTable =\n",
              "          await google.colab.kernel.invokeFunction('convertToInteractive',\n",
              "                                                    [key], {});\n",
              "        if (!dataTable) return;\n",
              "\n",
              "        const docLinkHtml = 'Like what you see? Visit the ' +\n",
              "          '<a target=\"_blank\" href=https://colab.research.google.com/notebooks/data_table.ipynb>data table notebook</a>'\n",
              "          + ' to learn more about interactive tables.';\n",
              "        element.innerHTML = '';\n",
              "        dataTable['output_type'] = 'display_data';\n",
              "        await google.colab.output.renderOutput(dataTable, element);\n",
              "        const docLink = document.createElement('div');\n",
              "        docLink.innerHTML = docLinkHtml;\n",
              "        element.appendChild(docLink);\n",
              "      }\n",
              "    </script>\n",
              "  </div>\n",
              "\n",
              "\n",
              "<div id=\"df-b718c4ea-7d27-4f2a-9425-115c5eaa136d\">\n",
              "  <button class=\"colab-df-quickchart\" onclick=\"quickchart('df-b718c4ea-7d27-4f2a-9425-115c5eaa136d')\"\n",
              "            title=\"Suggest charts\"\n",
              "            style=\"display:none;\">\n",
              "\n",
              "<svg xmlns=\"http://www.w3.org/2000/svg\" height=\"24px\"viewBox=\"0 0 24 24\"\n",
              "     width=\"24px\">\n",
              "    <g>\n",
              "        <path d=\"M19 3H5c-1.1 0-2 .9-2 2v14c0 1.1.9 2 2 2h14c1.1 0 2-.9 2-2V5c0-1.1-.9-2-2-2zM9 17H7v-7h2v7zm4 0h-2V7h2v10zm4 0h-2v-4h2v4z\"/>\n",
              "    </g>\n",
              "</svg>\n",
              "  </button>\n",
              "\n",
              "<style>\n",
              "  .colab-df-quickchart {\n",
              "      --bg-color: #E8F0FE;\n",
              "      --fill-color: #1967D2;\n",
              "      --hover-bg-color: #E2EBFA;\n",
              "      --hover-fill-color: #174EA6;\n",
              "      --disabled-fill-color: #AAA;\n",
              "      --disabled-bg-color: #DDD;\n",
              "  }\n",
              "\n",
              "  [theme=dark] .colab-df-quickchart {\n",
              "      --bg-color: #3B4455;\n",
              "      --fill-color: #D2E3FC;\n",
              "      --hover-bg-color: #434B5C;\n",
              "      --hover-fill-color: #FFFFFF;\n",
              "      --disabled-bg-color: #3B4455;\n",
              "      --disabled-fill-color: #666;\n",
              "  }\n",
              "\n",
              "  .colab-df-quickchart {\n",
              "    background-color: var(--bg-color);\n",
              "    border: none;\n",
              "    border-radius: 50%;\n",
              "    cursor: pointer;\n",
              "    display: none;\n",
              "    fill: var(--fill-color);\n",
              "    height: 32px;\n",
              "    padding: 0;\n",
              "    width: 32px;\n",
              "  }\n",
              "\n",
              "  .colab-df-quickchart:hover {\n",
              "    background-color: var(--hover-bg-color);\n",
              "    box-shadow: 0 1px 2px rgba(60, 64, 67, 0.3), 0 1px 3px 1px rgba(60, 64, 67, 0.15);\n",
              "    fill: var(--button-hover-fill-color);\n",
              "  }\n",
              "\n",
              "  .colab-df-quickchart-complete:disabled,\n",
              "  .colab-df-quickchart-complete:disabled:hover {\n",
              "    background-color: var(--disabled-bg-color);\n",
              "    fill: var(--disabled-fill-color);\n",
              "    box-shadow: none;\n",
              "  }\n",
              "\n",
              "  .colab-df-spinner {\n",
              "    border: 2px solid var(--fill-color);\n",
              "    border-color: transparent;\n",
              "    border-bottom-color: var(--fill-color);\n",
              "    animation:\n",
              "      spin 1s steps(1) infinite;\n",
              "  }\n",
              "\n",
              "  @keyframes spin {\n",
              "    0% {\n",
              "      border-color: transparent;\n",
              "      border-bottom-color: var(--fill-color);\n",
              "      border-left-color: var(--fill-color);\n",
              "    }\n",
              "    20% {\n",
              "      border-color: transparent;\n",
              "      border-left-color: var(--fill-color);\n",
              "      border-top-color: var(--fill-color);\n",
              "    }\n",
              "    30% {\n",
              "      border-color: transparent;\n",
              "      border-left-color: var(--fill-color);\n",
              "      border-top-color: var(--fill-color);\n",
              "      border-right-color: var(--fill-color);\n",
              "    }\n",
              "    40% {\n",
              "      border-color: transparent;\n",
              "      border-right-color: var(--fill-color);\n",
              "      border-top-color: var(--fill-color);\n",
              "    }\n",
              "    60% {\n",
              "      border-color: transparent;\n",
              "      border-right-color: var(--fill-color);\n",
              "    }\n",
              "    80% {\n",
              "      border-color: transparent;\n",
              "      border-right-color: var(--fill-color);\n",
              "      border-bottom-color: var(--fill-color);\n",
              "    }\n",
              "    90% {\n",
              "      border-color: transparent;\n",
              "      border-bottom-color: var(--fill-color);\n",
              "    }\n",
              "  }\n",
              "</style>\n",
              "\n",
              "  <script>\n",
              "    async function quickchart(key) {\n",
              "      const quickchartButtonEl =\n",
              "        document.querySelector('#' + key + ' button');\n",
              "      quickchartButtonEl.disabled = true;  // To prevent multiple clicks.\n",
              "      quickchartButtonEl.classList.add('colab-df-spinner');\n",
              "      try {\n",
              "        const charts = await google.colab.kernel.invokeFunction(\n",
              "            'suggestCharts', [key], {});\n",
              "      } catch (error) {\n",
              "        console.error('Error during call to suggestCharts:', error);\n",
              "      }\n",
              "      quickchartButtonEl.classList.remove('colab-df-spinner');\n",
              "      quickchartButtonEl.classList.add('colab-df-quickchart-complete');\n",
              "    }\n",
              "    (() => {\n",
              "      let quickchartButtonEl =\n",
              "        document.querySelector('#df-b718c4ea-7d27-4f2a-9425-115c5eaa136d button');\n",
              "      quickchartButtonEl.style.display =\n",
              "        google.colab.kernel.accessAllowed ? 'block' : 'none';\n",
              "    })();\n",
              "  </script>\n",
              "</div>\n",
              "\n",
              "    </div>\n",
              "  </div>\n"
            ],
            "application/vnd.google.colaboratory.intrinsic+json": {
              "type": "dataframe",
              "variable_name": "data"
            }
          },
          "metadata": {},
          "execution_count": 24
        }
      ]
    },
    {
      "cell_type": "markdown",
      "source": [
        "**Data** **visualization**"
      ],
      "metadata": {
        "id": "THw7jvsC7wUI"
      }
    },
    {
      "cell_type": "markdown",
      "source": [
        "1) As a film enthusiast, I want to identify the top-rated movies across different genres, so that I can discover new high-quality films to watch."
      ],
      "metadata": {
        "id": "3erPzYTX-HAn"
      }
    },
    {
      "cell_type": "code",
      "source": [
        "## Calculer la moyenne des évaluations IMDB par genre\n",
        "top_movies = (data.groupby('Genres')['IMDB Rating'].mean().sort_values(ascending=False)).head(30)\n",
        "\n",
        "# Créer un graphique en barres\n",
        "top_movies.plot(kind='bar', color='skyblue')\n",
        "plt.xlabel('Genres')\n",
        "plt.ylabel('Average IMDB Rating')\n",
        "plt.title('Average Movie Ratings by Genre')\n",
        "plt.xticks(rotation=90)  # Rotation des étiquettes pour une meilleure lisibilité\n",
        "plt.show()"
      ],
      "metadata": {
        "id": "LFqjbIVt7_Jn",
        "colab": {
          "base_uri": "https://localhost:8080/",
          "height": 690
        },
        "outputId": "5b66c408-8afd-43fc-fe49-be0e3490ed09"
      },
      "execution_count": 25,
      "outputs": [
        {
          "output_type": "display_data",
          "data": {
            "text/plain": [
              "<Figure size 640x480 with 1 Axes>"
            ],
            "image/png": "[encoded data removed]"
          },
          "metadata": {}
        }
      ]
    },
    {
      "cell_type": "markdown",
      "source": [
        "2) Analyze Cast and Crew Relationships: As a movie producer, I want to identify frequently collaborating actors, directors, or writers to understand successful filmmaking teams. TIP: Develop a network visualization showcasing frequent collaborators among actors, directors, and writers."
      ],
      "metadata": {
        "id": "ofP5H-Ey8GoF"
      }
    },
    {
      "cell_type": "code",
      "source": [
        "import networkx as nx\n",
        "# Supposons que vous avez un DataFrame 'collaborations' avec des colonnes 'Person1', 'Person2', 'Project'\n",
        "G = nx.from_pandas_edgelist(data, 'Directors', 'Writers', 'Stars', create_using=nx.Graph())\n",
        "nx.draw(G, with_labels=True)\n",
        "plt.show()"
      ],
      "metadata": {
        "id": "vP3gXgAB8CNn"
      },
      "execution_count": null,
      "outputs": []
    },
    {
      "cell_type": "markdown",
      "source": [
        "3) As a marketing manager, I want to understand how user engagement (number of ratings) changes over time and identify genres with the most engaged audiences. Acceptance criteria: Generate charts illustrating the average number of ratings per year and compare it across different genres."
      ],
      "metadata": {
        "id": "0texvdho8NtL"
      }
    },
    {
      "cell_type": "code",
      "source": [
        "# Group by year and genre then calculate average ratings\n",
        "yearly_genre_ratings = data.groupby(['Release Year', 'Genres']).size().reset_index(name='Counts')\n",
        "sns.lineplot(data=yearly_genre_ratings, x='Release Year', y='Counts', hue='Genre')\n",
        "plt.show()"
      ],
      "metadata": {
        "id": "3dJ3g9RZ8SSt"
      },
      "execution_count": null,
      "outputs": []
    }
  ]
}